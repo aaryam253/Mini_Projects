{
 "cells": [
  {
   "cell_type": "code",
   "execution_count": 2,
   "metadata": {},
   "outputs": [
    {
     "data": {
      "text/plain": [
       "[1, 4, 9, 16, 25]"
      ]
     },
     "execution_count": 2,
     "metadata": {},
     "output_type": "execute_result"
    }
   ],
   "source": [
    "# map: applies function all items in input list\n",
    "items = [1,2,3,4,5]\n",
    "mapped = list(map(lambda x: x**2, items));\n",
    "mapped"
   ]
  },
  {
   "cell_type": "code",
   "execution_count": 4,
   "metadata": {},
   "outputs": [
    {
     "name": "stdout",
     "output_type": "stream",
     "text": [
      "[0, 0]\n",
      "[1, 1]\n",
      "[4, 4]\n",
      "[9, 9]\n",
      "[16, 16]\n"
     ]
    }
   ],
   "source": [
    "# List of functions\n",
    "def multiply(x):\n",
    "    return (x*x)\n",
    "\n",
    "def square(x):\n",
    "    return x**2\n",
    "\n",
    "funcs = [multiply, square]\n",
    "\n",
    "for i in range(5):\n",
    "    val = list(map(lambda x: x(i), funcs))\n",
    "    print(val)"
   ]
  },
  {
   "cell_type": "code",
   "execution_count": 6,
   "metadata": {},
   "outputs": [
    {
     "data": {
      "text/plain": [
       "[-5, -4, -3, -2, -1]"
      ]
     },
     "execution_count": 6,
     "metadata": {},
     "output_type": "execute_result"
    }
   ],
   "source": [
    "# Filter creates list of elements for which func. returns true\n",
    "num_list = range(-5, 5)\n",
    "filter(lambda x: x < 0, num_list)"
   ]
  },
  {
   "cell_type": "code",
   "execution_count": 8,
   "metadata": {},
   "outputs": [
    {
     "data": {
      "text/plain": [
       "120"
      ]
     },
     "execution_count": 8,
     "metadata": {},
     "output_type": "execute_result"
    }
   ],
   "source": [
    "# Reduce: performing computation on a list and returning the result. \n",
    "# Applies rolling computation to sequential pairs of values in a list\n",
    "list = [1,2,3,4,5]\n",
    "reduce(lambda x, y: x*y, list)"
   ]
  },
  {
   "cell_type": "code",
   "execution_count": 17,
   "metadata": {},
   "outputs": [
    {
     "name": "stdout",
     "output_type": "stream",
     "text": [
      "[1, 0, 0, 1]\n",
      "2\n"
     ]
    }
   ],
   "source": [
    "# DFS for finding no. of CCs\n",
    "def numIslands(grid):\n",
    "    if not grid or not grid[0]:\n",
    "        return 0\n",
    "    rows,cols,count = len(grid), len(grid[0]), 0\n",
    "    \n",
    "    def traverse(i, j):\n",
    "        if not (0 <= i < rows and 0 <= j < cols) or grid[i][j] == 0:\n",
    "            return\n",
    "        grid[i][j] = 0 # Mark cell as visited\n",
    "        for (x, y) in ((0,-1),(0,1), (1,0), (-1, 0)):\n",
    "            traverse(i+x,i+y)\n",
    "    \n",
    "    for i in range(rows):\n",
    "        for j in range(cols):\n",
    "            if (grid[i][j] == 1):\n",
    "                count += 1\n",
    "                traverse(i, j)\n",
    "    return count\n",
    "\n",
    "if __name__ == \"__main__\":\n",
    "    grid = [[1,0,0,1],[1,0,0,0],[0,1,0,0],[0,0,1,0]]\n",
    "    print(numIslands(grid))\n",
    "    "
   ]
  },
  {
   "cell_type": "code",
   "execution_count": 28,
   "metadata": {},
   "outputs": [
    {
     "name": "stdout",
     "output_type": "stream",
     "text": [
      "[0, 3, 6, 9, 12, 15, 18, 21, 24, 27, 30, 33, 36, 39]\n",
      "<generator object <genexpr> at 0x10e63fdc0>\n"
     ]
    }
   ],
   "source": [
    "# Comprehensions --> constructs that allow sequences to be built from other sequences\n",
    "\n",
    "# 1) List Comprehensions --> short and concise way to create lists\n",
    "list = range(0, 40)\n",
    "multiples = [i for i in list if i % 3 == 0]\n",
    "print(multiples)\n",
    "\n",
    "squared = [x**2 for x in range(20)]\n",
    "\n",
    "# 2) Dictionary comprehensions\n",
    "dict = {'a': 10, 'b': 20, 'c': 30, 'd': 40}\n",
    "dict.items()\n",
    "\n",
    "# Switch keys and values\n",
    "dict = {v: k for k, v in dict.items()}\n",
    "\n",
    "# 3) Set comprehensions\n",
    "squared = {x**2 for x in [1,1,2]}\n",
    "\n",
    "# 4) Generator comprehensions --> Similar to list, except don't allocate memory for whole list but generate one item at a time\n",
    "gen = (i for i in range(30) if i % 3 == 0)\n",
    "print(gen)"
   ]
  },
  {
   "cell_type": "code",
   "execution_count": 38,
   "metadata": {},
   "outputs": [
    {
     "name": "stdout",
     "output_type": "stream",
     "text": [
      "<itertools.chain object at 0x10e633a90>\n"
     ]
    }
   ],
   "source": [
    "import itertools\n",
    "# List flattening\n",
    "alist = [[1,2],[3,4],[5,6]]\n",
    "print(itertools.chain.from_iterable(alist))"
   ]
  },
  {
   "cell_type": "code",
   "execution_count": 64,
   "metadata": {},
   "outputs": [
    {
     "name": "stdout",
     "output_type": "stream",
     "text": [
      "My name is Charlie\n"
     ]
    },
    {
     "ename": "TypeError",
     "evalue": "super(type, obj): obj must be an instance or subtype of type",
     "output_type": "error",
     "traceback": [
      "\u001b[0;31m---------------------------------------------------------------------------\u001b[0m",
      "\u001b[0;31mTypeError\u001b[0m                                 Traceback (most recent call last)",
      "\u001b[0;32m<ipython-input-64-db63eb842e7a>\u001b[0m in \u001b[0;36m<module>\u001b[0;34m()\u001b[0m\n\u001b[1;32m     19\u001b[0m \u001b[0mtest\u001b[0m\u001b[0;34m.\u001b[0m\u001b[0mmy_name\u001b[0m\u001b[0;34m(\u001b[0m\u001b[0;34m)\u001b[0m\u001b[0;34m\u001b[0m\u001b[0m\n\u001b[1;32m     20\u001b[0m \u001b[0;34m\u001b[0m\u001b[0m\n\u001b[0;32m---> 21\u001b[0;31m \u001b[0msupertest\u001b[0m \u001b[0;34m=\u001b[0m \u001b[0mSuperTest\u001b[0m\u001b[0;34m(\u001b[0m\u001b[0mtest\u001b[0m\u001b[0;34m)\u001b[0m\u001b[0;34m\u001b[0m\u001b[0m\n\u001b[0m\u001b[1;32m     22\u001b[0m \u001b[0msupertest\u001b[0m\u001b[0;34m.\u001b[0m\u001b[0msupername\u001b[0m\u001b[0;34m(\u001b[0m\u001b[0;34m)\u001b[0m\u001b[0;34m\u001b[0m\u001b[0m\n",
      "\u001b[0;32m<ipython-input-64-db63eb842e7a>\u001b[0m in \u001b[0;36m__init__\u001b[0;34m(self, supername)\u001b[0m\n\u001b[1;32m      9\u001b[0m \u001b[0;32mclass\u001b[0m \u001b[0mSuperTest\u001b[0m\u001b[0;34m:\u001b[0m\u001b[0;34m\u001b[0m\u001b[0m\n\u001b[1;32m     10\u001b[0m     \u001b[0;32mdef\u001b[0m \u001b[0m__init__\u001b[0m\u001b[0;34m(\u001b[0m\u001b[0mself\u001b[0m\u001b[0;34m,\u001b[0m \u001b[0msupername\u001b[0m\u001b[0;34m)\u001b[0m\u001b[0;34m:\u001b[0m\u001b[0;34m\u001b[0m\u001b[0m\n\u001b[0;32m---> 11\u001b[0;31m         \u001b[0msuper\u001b[0m\u001b[0;34m(\u001b[0m\u001b[0mstr\u001b[0m\u001b[0;34m,\u001b[0m \u001b[0mTest\u001b[0m\u001b[0;34m(\u001b[0m\u001b[0;34m\"charlie\"\u001b[0m\u001b[0;34m)\u001b[0m\u001b[0;34m)\u001b[0m\u001b[0;34m.\u001b[0m\u001b[0m__init__\u001b[0m\u001b[0;34m(\u001b[0m\u001b[0;34m)\u001b[0m\u001b[0;34m\u001b[0m\u001b[0m\n\u001b[0m\u001b[1;32m     12\u001b[0m         \u001b[0mself\u001b[0m\u001b[0;34m.\u001b[0m\u001b[0msupername\u001b[0m \u001b[0;34m=\u001b[0m \u001b[0msupername\u001b[0m\u001b[0;34m\u001b[0m\u001b[0m\n\u001b[1;32m     13\u001b[0m \u001b[0;34m\u001b[0m\u001b[0m\n",
      "\u001b[0;31mTypeError\u001b[0m: super(type, obj): obj must be an instance or subtype of type"
     ]
    }
   ],
   "source": [
    "class Test:\n",
    "    def __init__(self, name):\n",
    "        self.name = name\n",
    "    \n",
    "    def my_name(self):\n",
    "        print(\"My name is {}\".format(self.name))\n",
    "\n",
    "        \n",
    "class SuperTest:\n",
    "    def __init__(self, supername):\n",
    "        super(str, Test(\"charlie\")).__init__()\n",
    "        self.supername = supername\n",
    "    \n",
    "    def supername(self):\n",
    "        super(str, Test(\"charlie\")).my_name()\n",
    "        print(\"My super name is {}\".format(self.supername))\n",
    "\n",
    "test = Test(\"Charlie\")\n",
    "test.my_name()\n",
    "\n",
    "supertest = SuperTest(test)\n",
    "supertest.supername()"
   ]
  },
  {
   "cell_type": "code",
   "execution_count": null,
   "metadata": {},
   "outputs": [],
   "source": []
  },
  {
   "cell_type": "code",
   "execution_count": null,
   "metadata": {},
   "outputs": [],
   "source": []
  }
 ],
 "metadata": {
  "kernelspec": {
   "display_name": "Python 3",
   "language": "python",
   "name": "python3"
  },
  "language_info": {
   "codemirror_mode": {
    "name": "ipython",
    "version": 2
   },
   "file_extension": ".py",
   "mimetype": "text/x-python",
   "name": "python",
   "nbconvert_exporter": "python",
   "pygments_lexer": "ipython2",
   "version": "2.7.16"
  }
 },
 "nbformat": 4,
 "nbformat_minor": 2
}
