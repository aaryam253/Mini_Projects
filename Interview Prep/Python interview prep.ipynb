{
 "cells": [
  {
   "cell_type": "code",
   "execution_count": 60,
   "metadata": {},
   "outputs": [
    {
     "name": "stdout",
     "output_type": "stream",
     "text": [
      "0 1\n",
      "1 2\n",
      "2 3\n",
      "3 4\n",
      "4 5\n"
     ]
    },
    {
     "data": {
      "text/plain": [
       "[1, 4, 9, 16, 25]"
      ]
     },
     "execution_count": 60,
     "metadata": {},
     "output_type": "execute_result"
    }
   ],
   "source": [
    "# map: applies function all items in input list\n",
    "items = [1,2,3,4,5]\n",
    "mapped = (map(lambda x: x**2, items));\n",
    "mapped"
   ]
  },
  {
   "cell_type": "code",
   "execution_count": 4,
   "metadata": {},
   "outputs": [
    {
     "name": "stdout",
     "output_type": "stream",
     "text": [
      "[0, 0]\n",
      "[1, 1]\n",
      "[4, 4]\n",
      "[9, 9]\n",
      "[16, 16]\n"
     ]
    }
   ],
   "source": [
    "# List of functions\n",
    "def multiply(x):\n",
    "    return (x*x)\n",
    "\n",
    "def square(x):\n",
    "    return x**2\n",
    "\n",
    "funcs = [multiply, square]\n",
    "\n",
    "for i in range(5):\n",
    "    val = list(map(lambda x: x(i), funcs))\n",
    "    print(val)"
   ]
  },
  {
   "cell_type": "code",
   "execution_count": 6,
   "metadata": {},
   "outputs": [
    {
     "data": {
      "text/plain": [
       "[-5, -4, -3, -2, -1]"
      ]
     },
     "execution_count": 6,
     "metadata": {},
     "output_type": "execute_result"
    }
   ],
   "source": [
    "# Filter creates list of elements for which func. returns true\n",
    "num_list = range(-5, 5)\n",
    "filter(lambda x: x < 0, num_list)"
   ]
  },
  {
   "cell_type": "code",
   "execution_count": 45,
   "metadata": {},
   "outputs": [
    {
     "data": {
      "text/plain": [
       "[5]"
      ]
     },
     "execution_count": 45,
     "metadata": {},
     "output_type": "execute_result"
    }
   ],
   "source": [
    "# Reduce: performing computation on a list and returning the result. \n",
    "# Applies rolling computation to sequential pairs of values in a list\n",
    "list = [1,2,3,4,5]\n",
    "reduce(lambda x, y: x*y, list)\n",
    "list[-1:5]"
   ]
  },
  {
   "cell_type": "code",
   "execution_count": 17,
   "metadata": {},
   "outputs": [
    {
     "name": "stdout",
     "output_type": "stream",
     "text": [
      "[1, 0, 0, 1]\n",
      "2\n"
     ]
    }
   ],
   "source": [
    "# DFS for finding no. of CCs\n",
    "def numIslands(grid):\n",
    "    if not grid or not grid[0]:\n",
    "        return 0\n",
    "    rows,cols,count = len(grid), len(grid[0]), 0\n",
    "    \n",
    "    def traverse(i, j):\n",
    "        if not (0 <= i < rows and 0 <= j < cols) or grid[i][j] == 0:\n",
    "            return\n",
    "        grid[i][j] = 0 # Mark cell as visited\n",
    "        for (x, y) in ((0,-1),(0,1), (1,0), (-1, 0)):\n",
    "            traverse(i+x,i+y)\n",
    "    \n",
    "    for i in range(rows):\n",
    "        for j in range(cols):\n",
    "            if (grid[i][j] == 1):\n",
    "                count += 1\n",
    "                traverse(i, j)\n",
    "    return count\n",
    "\n",
    "if __name__ == \"__main__\":\n",
    "    grid = [[1,0,0,1],[1,0,0,0],[0,1,0,0],[0,0,1,0]]\n",
    "    print(numIslands(grid))\n",
    "    "
   ]
  },
  {
   "cell_type": "code",
   "execution_count": 65,
   "metadata": {},
   "outputs": [
    {
     "name": "stdout",
     "output_type": "stream",
     "text": [
      "[12, 15, 18, 21, 24, 27, 30, 33, 36, 39]\n",
      "<generator object <genexpr> at 0x10d7d1280>\n"
     ]
    }
   ],
   "source": [
    "# Comprehensions --> constructs that allow sequences to be built from other sequences\n",
    "\n",
    "# 1) List Comprehensions --> short and concise way to create lists\n",
    "list = range(10, 40)\n",
    "multiples = [i for i in list if i % 3 == 0]\n",
    "print(multiples)\n",
    "\n",
    "squared = [x**2 for x in range(20)]\n",
    "\n",
    "# 2) Dictionary comprehensions\n",
    "dict = {'a': 10, 'b': 20, 'c': 30, 'd': 40}\n",
    "dict.items()\n",
    "\n",
    "# Switch keys and values\n",
    "dict = {v: k for k, v in dict.items()}\n",
    "\n",
    "# 3) Set comprehensions\n",
    "squared = {x**2 for x in [1,1,2]}\n",
    "\n",
    "# 4) Generator comprehensions --> Similar to list, except don't allocate memory for whole list but generate one item at a time\n",
    "gen = (i for i in range(15, 30) if i % 3 == 0)\n",
    "print(gen)"
   ]
  },
  {
   "cell_type": "code",
   "execution_count": 38,
   "metadata": {},
   "outputs": [
    {
     "name": "stdout",
     "output_type": "stream",
     "text": [
      "<itertools.chain object at 0x10e633a90>\n"
     ]
    }
   ],
   "source": [
    "import itertools\n",
    "# List flattening\n",
    "alist = [[1,2],[3,4],[5,6]]\n",
    "print(itertools.chain.from_iterable(alist))"
   ]
  },
  {
   "cell_type": "code",
   "execution_count": 35,
   "metadata": {},
   "outputs": [
    {
     "name": "stdout",
     "output_type": "stream",
     "text": [
      "Third\n",
      "test\n",
      "one\n",
      "two\n",
      "three\n",
      "2\n",
      "15.642\n",
      "The key origin has value new york.\n",
      "The key band has value bayside.\n",
      "The key floa has value floatr.\n",
      "The key ten has value 1.\n"
     ]
    }
   ],
   "source": [
    "class A:\n",
    "    def __init__(self):\n",
    "        print(\"First\")\n",
    "\n",
    "class B:\n",
    "    def __init__(self):\n",
    "        print(\"Second\")\n",
    "\n",
    "class C(A, B):\n",
    "    def __init__(self):\n",
    "        print(\"Third\")\n",
    "    \n",
    "    # Take in arguments\n",
    "    def args_example(self, *args):\n",
    "        for arg in args:\n",
    "            print(arg)\n",
    "    \n",
    "    # Kwargs include key value pairs\n",
    "    def kwargs_example(self, **kwargs):\n",
    "        for key, value in kwargs.items():\n",
    "            print(\"The key {} has value {}.\".format(key, value))\n",
    "        \n",
    "\n",
    "my_object = C()\n",
    "my_object.args_example(\"test\", \"one\", \"two\", \"three\", 2, 15.642)\n",
    "my_object.kwargs_example(band = \"bayside\", origin = \"new york\", ten = 1, floa = \"floatr\")"
   ]
  },
  {
   "cell_type": "code",
   "execution_count": 28,
   "metadata": {},
   "outputs": [
    {
     "data": {
      "text/plain": [
       "'dsadsadsa'"
      ]
     },
     "execution_count": 28,
     "metadata": {},
     "output_type": "execute_result"
    }
   ],
   "source": [
    "# Reverse a string\n",
    "string = \"asjdkasdjasd\"\n",
    "string = string[::-1]\n",
    "string\n",
    "\n",
    "# Reverse string using recursion\n",
    "def reverse_recursion(s):\n",
    "    if len(s) == 0:\n",
    "        return s\n",
    "    else:\n",
    "        return reverse_recursion(s[1:]) + s[0]\n",
    "\n",
    "reverse_recursion(\"asdasdasd\")"
   ]
  },
  {
   "cell_type": "code",
   "execution_count": 47,
   "metadata": {},
   "outputs": [
    {
     "name": "stdout",
     "output_type": "stream",
     "text": [
      "Original list is: \n",
      "50\n",
      "28\n",
      "4\n",
      "20\n",
      "Reversed list is: \n",
      "20\n",
      "4\n",
      "28\n",
      "50\n"
     ]
    }
   ],
   "source": [
    "# Reversing a list in python\n",
    "# Time complexity: O(n)\n",
    "# Space complexity: O(1)\n",
    "\n",
    "class Node:\n",
    "    def __init__(self, data):\n",
    "        self.data = data\n",
    "        self.next = None\n",
    "\n",
    "class LinkedList:\n",
    "    def __init__(self):\n",
    "        self.head = None\n",
    "    \n",
    "    # Reverse the linked list\n",
    "    def reverse(self):\n",
    "        prev = None\n",
    "        current = self.head\n",
    "        \n",
    "        while (current is not None):\n",
    "            next = current.next\n",
    "            current.next = prev\n",
    "            prev = current\n",
    "            current = next\n",
    "        \n",
    "        self.head = prev\n",
    "    \n",
    "    # Insert element\n",
    "    def push(self, new_data):\n",
    "        new_node = Node(new_data)\n",
    "        new_node.next = self.head\n",
    "        self.head = new_node\n",
    "    \n",
    "    # Print linked list\n",
    "    def printList(self):\n",
    "        temp = self.head\n",
    "        while (temp):\n",
    "            print temp.data\n",
    "            temp = temp.next\n",
    "\n",
    "list1 = LinkedList()\n",
    "list1.push(20)\n",
    "list1.push(4)\n",
    "list1.push(28)\n",
    "list1.push(50)\n",
    "\n",
    "print(\"Original list is: \")\n",
    "list1.printList()\n",
    "list1.reverse()\n",
    "print(\"Reversed list is: \")\n",
    "list1.printList()\n"
   ]
  },
  {
   "cell_type": "code",
   "execution_count": 48,
   "metadata": {},
   "outputs": [],
   "source": [
    "# TF-IDF\n",
    "# Define your documents\n",
    "docs = [\"Ben studies about computers in Computer Lab.\", \n",
    "        \"Steve teaches at Brown University\", \n",
    "        \"Data Scientists work on large datasets\"]\n",
    "\n",
    "# TF calculation\n",
    "# tf (t, d) = N(t, d) / //D//\n",
    "def termFrequency(term, doc):\n",
    "    # split document\n",
    "    terms_in_doc = doc.lower().split()\n",
    "    \n",
    "    # count of terms in document\n",
    "    term_in_doc = terms_in_doc.count(term.lower())\n",
    "    \n",
    "    len_of_doc = len(terms_in_doc)\n",
    "    \n",
    "    # normalized tf\n",
    "    normalized_tf = float(term_in_doc / len_of_doc)\n",
    "    \n",
    "    return normalized_tf\n",
    "\n",
    "# IDF calculation\n",
    "# idf(t) = log(N / df(t) + 1)\n",
    "def inverseDocumentFreq(term, docs):\n",
    "    docs_with_term = 0\n",
    "    \n",
    "    for doc in docs:\n",
    "        if term.lower() in docs[doc].lower().split():\n",
    "            docs_with_term += 1\n",
    "    \n",
    "    if docs_with_term > 0:\n",
    "        total_docs = len(docs)\n",
    "        \n",
    "        idf_val = log(float(total_docs / docs_with_term))\n",
    "        return idf_val\n",
    "    else:\n",
    "        return 0\n",
    "    \n",
    "query = \"Data Scientists\""
   ]
  },
  {
   "cell_type": "code",
   "execution_count": 64,
   "metadata": {},
   "outputs": [
    {
     "data": {
      "text/plain": [
       "[('new', 3), ('true', 123.1231), ('two', 2)]"
      ]
     },
     "execution_count": 64,
     "metadata": {},
     "output_type": "execute_result"
    }
   ],
   "source": [
    "dict1 = {'the': 1, 'two': 2}\n",
    "del dict1['the']\n",
    "dict1.update({'new': 3})\n",
    "dict1['true'] = 123.1231\n",
    "dict1.items()"
   ]
  },
  {
   "cell_type": "code",
   "execution_count": 85,
   "metadata": {},
   "outputs": [
    {
     "data": {
      "text/plain": [
       "{23, 1238.12, 'thrue'}"
      ]
     },
     "execution_count": 85,
     "metadata": {},
     "output_type": "execute_result"
    }
   ],
   "source": [
    "set2 = set([1, 2, 3, 4])\n",
    "set1 = set([1, 2, 3, 4, 1238.12, \"thrue\"])\n",
    "set1.add(23)\n",
    "set1 - set2"
   ]
  },
  {
   "cell_type": "code",
   "execution_count": 87,
   "metadata": {},
   "outputs": [],
   "source": [
    "def isNone(word):\n",
    "    if word is None:\n",
    "        print(\"Yeah!\")\n",
    "\n",
    "        \n",
    "word = \"test\"\n",
    "isNone(word)"
   ]
  },
  {
   "cell_type": "code",
   "execution_count": 30,
   "metadata": {},
   "outputs": [
    {
     "name": "stdout",
     "output_type": "stream",
     "text": [
      "21\n",
      "6000\n",
      "21\n",
      "6000\n",
      "21\n",
      "12340\n",
      "1\n",
      "This is the original parent class method.\n",
      "This is the overriden method in the child class.\n",
      "emp_id is 12345\n"
     ]
    }
   ],
   "source": [
    "# Object Oriented Design (Advanced)\n",
    "# Inheritance --> transfer of characteristics from parent to child class without any modification\n",
    "# Single inheritance, multilevel inheritance, hierarchical inheritance, multiple inheritance\n",
    "\n",
    "# 1) Single inheritance --> enables derived class to inherit characteristics from single parent class\n",
    "class employee1():\n",
    "    def __init__(self, name, age, salary):\n",
    "        self.name = name\n",
    "        self.age = age\n",
    "        self.salary = salary\n",
    "    \n",
    "class childemployee(employee1):\n",
    "    def __init__(self, name, age, salary, id):\n",
    "        self.name = name\n",
    "        self.age = age\n",
    "        self.salary = salary\n",
    "        self.id = id\n",
    "\n",
    "emp1 = employee1('toby', 21, 4000)\n",
    "print(emp1.age)\n",
    "\n",
    "# 2) Multilevel inheritance --> enables derived class to inherit properties from an immediate parent class which in turn\n",
    "# inherits properties from the parent class\n",
    "class employee():\n",
    "    def __init__(self, name, age, salary):\n",
    "        self.name = name\n",
    "        self.age = age\n",
    "        self.salary = salary\n",
    "    \n",
    "class childemployee(employee):\n",
    "    def __init__(self, name, age, salary):\n",
    "        self.name = name\n",
    "        self.age = age\n",
    "        self.salary = salary\n",
    "\n",
    "class grandchildemployee(childemployee):\n",
    "    def __init__(self, name, age, salary):\n",
    "        self.name = name\n",
    "        self.age = age\n",
    "        self.salary = salary\n",
    "\n",
    "emp1 = employee('toby', 25, 6000)\n",
    "empy2 = childemployee('daniel', 21, 4000)\n",
    "\n",
    "print(emp1.salary)\n",
    "print(empy2.age)\n",
    "\n",
    "# 3) Hierarchical inheritance --> enables more than one derived class to inherit properties from a parent class\n",
    "class employee():\n",
    "    def __init__(self, name, age, salary):\n",
    "        self.name = name\n",
    "        self.age = age\n",
    "        self.salary = salary\n",
    "\n",
    "class childemployee(employee):\n",
    "    def __init__(self, name, age, salary):\n",
    "        self.name = name\n",
    "        self.age = age\n",
    "        self.salary = salary\n",
    "\n",
    "class grandchildemployee(employee):\n",
    "    def __init__(self, name, age, salary):\n",
    "        self.name = name\n",
    "        self.age = age\n",
    "        self.salary = salary\n",
    "\n",
    "emp1 = grandchildemployee('toby', 25, 6000)\n",
    "empy2 = childemployee('daniel', 21, 4000)\n",
    "\n",
    "print(emp1.salary)\n",
    "print(empy2.age)\n",
    "\n",
    "# 4) Multiple inheritance --> enables one derived class to inherit properties from more than one base class\n",
    "class employee():\n",
    "    def __init__(self, name, age, salary):\n",
    "        self.name = name\n",
    "        self.age = age\n",
    "        self.salary = salary\n",
    "\n",
    "class parent2():\n",
    "    def __init__(self, name, age, salary, id):\n",
    "        self.name = name\n",
    "        self.age = age\n",
    "        self.salary = salary\n",
    "        self.id = id\n",
    "\n",
    "class grandchildemployee(employee, parent2):\n",
    "    def __init__(self, name, age, salary, id):\n",
    "        self.name = name\n",
    "        self.age = age\n",
    "        self.salary = salary\n",
    "        self.id = id\n",
    "\n",
    "emp1= grandchildemployee('jake', 20, 5000, 12340)\n",
    "print(emp1.id)\n",
    "\n",
    "# 5) Hybrid inheritance --> combination of any two kinds of inheritance\n",
    "class A:\n",
    "    x = 1\n",
    "\n",
    "class B(A):\n",
    "    pass\n",
    "\n",
    "class C(A):\n",
    "    pass\n",
    "\n",
    "class D(B,C):\n",
    "    pass\n",
    "\n",
    "d_obj = D()\n",
    "print(d_obj.x)\n",
    "\n",
    "\n",
    "# Polymorphism --> One task can be performed in several different ways (a property of an object which allows it to take multiple forms)\n",
    "# Polymorphism means one name, many forms. Two examples being method overriding and method overloading\n",
    "# Method Overriding --> re-implementing a method of the parent class in the child class\n",
    "class A:\n",
    "    def explore(self):\n",
    "        print(\"This is the original parent class method.\")\n",
    "\n",
    "# In python, all classes inherit from the object class implicity. The object class is The Base Class. \n",
    "'''\n",
    "Special methods provided by object class:\n",
    "1) __new__()\n",
    "2) __init__()\n",
    "3) __str__()\n",
    "\n",
    "__new__() --> Creates the object, after which is calls the __init__() method\n",
    "__str__() --> Returns a nicely formatted string representation of the object. Object class version returns a string\n",
    "containing the name of the class and its memory address in hexadecimal\n",
    "'''\n",
    "\n",
    "class B(A, object):\n",
    "    def explore(self):\n",
    "        super(B, self).explore()  # calling the parent class explore() method\n",
    "        print(\"This is the overriden method in the child class.\")\n",
    "\n",
    "b_obj = B()\n",
    "b_obj.explore()\n",
    "\n",
    "\n",
    "# Method Overloading --> methods of the same class shares the same name but each method must have different number\n",
    "# of parameters or parameters having different types and order\n",
    "# Two methods sharing the same name but having different class signatures\n",
    "# However, python does not support method overloading, we can only use the latest defined method\n",
    "class Add:\n",
    "    def suma(a):\n",
    "        return a**2\n",
    "    \n",
    "    def suma(a, b):\n",
    "        return a + b + 10\n",
    "\n",
    "# Only the latest defined method will be executed as Python does not support method overloading\n",
    "def suma(a):\n",
    "    return a**2\n",
    "    \n",
    "def suma(a, b):\n",
    "    return a + b + 10\n",
    "\n",
    "\n",
    "# Final thing in OOP is abstraction, which simplifies a problem by modeling classes appropriate to the problem\n",
    "# These abstracted classes can only be used for inheriting the functionalities\n",
    "\n",
    "from abc import ABC, abstractmethod # Just examples\n",
    "class employee(ABC):\n",
    "    def emp_id(self, id, name, age, salary):\n",
    "        pass\n",
    "    \n",
    "class childemployee1(employee):\n",
    "    def emp_id(self, id):\n",
    "        print(\"emp_id is 12345\")\n",
    "\n",
    "emp1 = childemployee1()\n",
    "emp1.emp_id(id)"
   ]
  },
  {
   "cell_type": "code",
   "execution_count": 69,
   "metadata": {},
   "outputs": [
    {
     "data": {
      "text/plain": [
       "2"
      ]
     },
     "execution_count": 69,
     "metadata": {},
     "output_type": "execute_result"
    }
   ],
   "source": [
    "# Question 1 - Reverse a string\n",
    "a = \"the fox jumps over the lazy dog\"\n",
    "a[::-1]\n",
    "\n",
    "# Question 2 - Identify all words which are palindromes in a sentence\n",
    "def isPalindrome(word):\n",
    "    if (word == word[::-1]):\n",
    "        return True\n",
    "    else:\n",
    "        return False\n",
    "\n",
    "def getPalindromes(inputstr):\n",
    "    cleanstr = inputstr.replace(\",\",\"\").lower()\n",
    "    words = set(cleanstr.split())\n",
    "    wPalindromes = [word for word in words if isPalindrome(word) and word != \"\"]\n",
    "    return wPalindromes\n",
    "\n",
    "getPalindromes(\"Lol, this is a gag, I didn't laugh so much in a long time\")\n",
    "\n",
    "# Question 3 - FizzBuzz\n",
    "for i in range(1, 51):\n",
    "    mod_2 = (i % 2 == 0)\n",
    "    mod_3 = (i % 3 == 0)\n",
    "    \n",
    "    if mod_2 or mod_3:\n",
    "        pass\n",
    "        # print(str((mod_2 * 'Fizz') + (mod_3 * 'Buzz')))\n",
    "    else:\n",
    "        pass\n",
    "        # print(str(i))\n",
    "    \n",
    "# Question 4 - Find first duplicate\n",
    "import re\n",
    "sentence = \"this is just a wonder, wonder why do I have this in mind\"\n",
    "\n",
    "def firstUnique(sentence):\n",
    "    clean_sentence = re.sub(\"[^a-zA-Z -]\",\"\", sentence)\n",
    "    \n",
    "    words = clean_sentence.lower().split()\n",
    "    unique = set()\n",
    "    for word in words:\n",
    "        if word in unique:\n",
    "            return word\n",
    "        else:\n",
    "            unique.add(word)\n",
    "\n",
    "\n",
    "# print(\"The first duplicate word is {}\".format(firstUnique(sentence)))\n",
    "\n",
    "# Question 5 - String with more than two duplicates\n",
    "import re\n",
    "sentence = \"this is just a wonder, wonder why do I have this in mind. This is all that matters.\"\n",
    "\n",
    "def firstWithTwoDuplicates(sentence):\n",
    "    clean_sentence = re.sub(\"[^a-zA-Z -]\",\"\", sentence)\n",
    "    \n",
    "    words = clean_sentence.lower().split()\n",
    "    num_words = {}\n",
    "    for word in words:\n",
    "        if word in num_words.keys():\n",
    "            num_words[word] += 1\n",
    "            if num_words[word] == 3:\n",
    "                return word\n",
    "        else:\n",
    "            num_words[word] = 1\n",
    "    \n",
    "    return \"None!\"\n",
    "\n",
    "# print(\"The first word with more than two duplicates is {}\".format(firstWithTwoDuplicates(sentence)))\n",
    "\n",
    "# Question 6 - Replicate sum of any number of variables\n",
    "def sum1(*args):\n",
    "    t_sum = 0\n",
    "    for arg in args:\n",
    "        t_sum += arg\n",
    "    return t_sum\n",
    "\n",
    "sum1(1,2,3,4,5,5,6,6,7)\n",
    "\n",
    "# Question 7 - Sum of fibonacci numbers from 0 to n\n",
    "def sum_Fibonnaci(n):\n",
    "    assert n >= 0, \"Number of elements in sequence must be greater than or equal to 0!\"\n",
    "    fsum = 0\n",
    "    a, b = 0, 1\n",
    "    for i in range(0, n+1):\n",
    "        fsum += a\n",
    "        a, b = b, a+b\n",
    "        \n",
    "    return fsum\n",
    "\n",
    "sum_Fibonnaci(2)"
   ]
  },
  {
   "cell_type": "code",
   "execution_count": null,
   "metadata": {},
   "outputs": [],
   "source": []
  },
  {
   "cell_type": "code",
   "execution_count": null,
   "metadata": {},
   "outputs": [],
   "source": []
  }
 ],
 "metadata": {
  "kernelspec": {
   "display_name": "Python 3",
   "language": "python",
   "name": "python3"
  },
  "language_info": {
   "codemirror_mode": {
    "name": "ipython",
    "version": 2
   },
   "file_extension": ".py",
   "mimetype": "text/x-python",
   "name": "python",
   "nbconvert_exporter": "python",
   "pygments_lexer": "ipython2",
   "version": "2.7.16"
  }
 },
 "nbformat": 4,
 "nbformat_minor": 2
}
